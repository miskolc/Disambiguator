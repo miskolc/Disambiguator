{
 "cells": [
  {
   "cell_type": "code",
   "execution_count": 1,
   "metadata": {
    "collapsed": true
   },
   "outputs": [],
   "source": [
    "from nltk.corpus import senseval\n"
   ]
  },
  {
   "cell_type": "code",
   "execution_count": 5,
   "metadata": {
    "collapsed": false
   },
   "outputs": [
    {
     "data": {
      "text/plain": [
       "['hard.pos', 'interest.pos', 'line.pos', 'serve.pos']"
      ]
     },
     "execution_count": 5,
     "metadata": {},
     "output_type": "execute_result"
    }
   ],
   "source": [
    "senseval.fileids()"
   ]
  },
  {
   "cell_type": "code",
   "execution_count": 7,
   "metadata": {
    "collapsed": false
   },
   "outputs": [
    {
     "data": {
      "text/plain": [
       "[SensevalInstance(word='hard-a', position=20, context=[('``', '``'), ('he', 'PRP'), ('may', 'MD'), ('lose', 'VB'), ('all', 'DT'), ('popular', 'JJ'), ('support', 'NN'), (',', ','), ('but', 'CC'), ('someone', 'NN'), ('has', 'VBZ'), ('to', 'TO'), ('kill', 'VB'), ('him', 'PRP'), ('to', 'TO'), ('defeat', 'VB'), ('him', 'PRP'), ('and', 'CC'), ('that', 'DT'), (\"'s\", 'VBZ'), ('hard', 'JJ'), ('to', 'TO'), ('do', 'VB'), ('.', '.'), (\"''\", \"''\")], senses=('HARD1',)), SensevalInstance(word='hard-a', position=10, context=[('clever', 'NNP'), ('white', 'NNP'), ('house', 'NNP'), ('``', '``'), ('spin', 'VB'), ('doctors', 'NNS'), (\"''\", \"''\"), ('are', 'VBP'), ('having', 'VBG'), ('a', 'DT'), ('hard', 'JJ'), ('time', 'NN'), ('helping', 'VBG'), ('president', 'NNP'), ('bush', 'NNP'), ('explain', 'VB'), ('away', 'RB'), ('the', 'DT'), ('economic', 'JJ'), ('bashing', 'NN'), ('that', 'IN'), ('low-and', 'JJ'), ('middle-income', 'JJ'), ('workers', 'NNS'), ('are', 'VBP'), ('taking', 'VBG'), ('these', 'DT'), ('days', 'NNS'), ('.', '.')], senses=('HARD1',)), ...]"
      ]
     },
     "execution_count": 7,
     "metadata": {},
     "output_type": "execute_result"
    }
   ],
   "source": [
    "senseval.instances('hard.pos')"
   ]
  },
  {
   "cell_type": "code",
   "execution_count": 9,
   "metadata": {
    "collapsed": false
   },
   "outputs": [],
   "source": [
    "# senseval.raw('hard.pos')"
   ]
  },
  {
   "cell_type": "code",
   "execution_count": 13,
   "metadata": {
    "collapsed": false
   },
   "outputs": [
    {
     "name": "stdout",
     "output_type": "stream",
     "text": [
      "yields on money-market mutual funds continued to slide , amid signs that portfolio managers expect further declines in\n",
      "         declines in |  interest | rates .         -> interest_6\n",
      "longer maturities are thought to indicate declining\n",
      "  indicate declining |  interest | rates because   -> interest_6\n",
      "nevertheless , said brenda malizia negus , editor of money fund report , yields `` may blip up again before they blip down '' because of recent rises in short-term\n",
      "       in short-term |  interest | rates .         -> interest_6\n",
      "j . p . bolduc , vice chairman of w . r . grace & co . , which holds a 83 . 4 %\n",
      "                 4 % |  interest | in this         -> interest_5\n",
      "finmeccanica is an italian state-owned holding company with\n",
      "        company with | interests | in the          -> interest_5\n",
      "in august , the commission ruled that between $ 190 million and $ 195 million of the plant 's construction cost was unreasonable and should be refunded , plus\n",
      "              , plus |  interest | .               -> interest_6\n",
      "last month , judge curry set the\n",
      "             set the |  interest | rate on         -> interest_6\n",
      "gary hoffman , a washington lawyer specializing in intellectual-property cases , said the threat of u . s . retaliation , combined with a growing recognition that protecting intellectual property is in a country 's own\n",
      "              's own |  interest | , prompted      -> interest_4\n",
      "mr . rapanelli recently has said the government of president carlos menem , who took office july 8 , feels a significant reduction of principal and\n",
      "       principal and |  interest | is the          -> interest_6\n",
      "that stake , together with its convertible preferred stock holdings , gives faulding the right to increase its\n",
      "        increase its |  interest | to 70           -> interest_5\n"
     ]
    }
   ],
   "source": [
    "for inst in senseval.instances('interest.pos')[:10]:\n",
    "    p = inst.position\n",
    "    left = ' '.join(w for (w,t) in inst.context[p-2:p])\n",
    "    word = ' '.join(w for (w,t) in inst.context[p:p+1])\n",
    "    right = ' '.join(w for (w,t) in inst.context[p+1:p+3])\n",
    "    senses = ' '.join(inst.senses)\n",
    "    print(' '.join(w for (w,t) in inst.context[0:p]))\n",
    "    print('%20s |%10s | %-15s -> %s' % (left, word, right, senses))"
   ]
  },
  {
   "cell_type": "code",
   "execution_count": 53,
   "metadata": {
    "collapsed": false
   },
   "outputs": [
    {
     "name": "stdout",
     "output_type": "stream",
     "text": [
      "[('the', 'DT'), ('company', 'NN'), ('argued', 'VBD'), ('that', 'IN'), ('its', 'PRP$'), ('foreman', 'NN'), ('needn', 'NN'), (\"'t\", 'NN'), ('have', 'VBP'), ('told', 'VBN'), ('the', 'DT'), ('worker', 'NN'), ('not', 'RB'), ('to', 'TO'), ('move', 'VB'), ('the', 'DT'), ('plank', 'NN'), ('to', 'TO'), ('which', 'WDT'), ('his', 'PRP$'), ('lifeline', 'NN'), ('was', 'VBD'), ('tied', 'VBN'), ('because', 'IN'), ('\"', '\"'), ('that', 'WDT'), ('comes', 'VBZ'), ('with', 'IN'), ('common', 'JJ'), ('sense', 'NN'), ('.', '.'), ('\"', '\"'), ('the', 'DT'), ('commission', 'NN'), ('noted', 'VBD'), (',', ','), ('however', 'RB'), (',', ','), ('that', 'IN'), ('dellovade', 'NNP'), ('hadn', 'NN'), (\"'t\", 'NN'), ('instructed', 'VBD'), ('its', 'PRP$'), ('employees', 'NNS'), ('on', 'IN'), ('how', 'WRB'), ('to', 'TO'), ('secure', 'VB'), ('their', 'PRP$'), ('lifelines', 'NNS'), ('and', 'CC'), ('didn', 'VBD'), (\"'t\", 'NN'), ('heed', 'NN'), ('a', 'DT'), ('federal', 'JJ'), ('inspector', 'NN'), (\"'s\", 'POS'), ('earlier', 'JJR'), ('suggestion', 'NN'), ('that', 'IN'), ('the', 'DT'), ('company', 'NN'), ('install', 'VB'), ('special', 'JJ'), ('safety', 'NN'), ('lines', 'NNS'), ('inside', 'IN'), ('the', 'DT'), ('a-frame', 'NNP'), ('structure', 'NN'), ('it', 'PRP'), ('was', 'VBD'), ('building', 'VBG'), ('.', '.')]\n",
      "the company argued that its foreman needn 't have told the worker not to move the plank to which his lifeline was tied because \" that comes with common sense . \" the commission noted , however , that dellovade hadn 't instructed its employees on how to secure their lifelines and didn 't heed a federal inspector 's earlier suggestion that the company install special safety lines inside the a-frame structure it was building .\n",
      "      lines -> cord\n",
      "[('the', 'DT'), ('set', 'VBN'), (',', ','), ('designed', 'VBN'), ('by', 'IN'), ('mr', 'NNP'), ('.', '.'), ('hall', 'NNP'), (\"'s\", 'POS'), ('longtime', 'JJ'), ('associate', 'JJ'), ('eugene', 'NNP'), ('lee', 'NNP'), (',', ','), ('has', 'VBZ'), ('the', 'DT'), ('audience', 'NN'), ('divided', 'VBN'), ('in', 'IN'), ('half', 'NN'), (',', ','), ('facing', 'VBG'), ('a', 'DT'), ('central', 'JJ'), ('playing', 'NN'), ('area', 'NN'), ('.', '.'), ('off', 'IN'), ('to', 'TO'), ('one', 'CD'), ('side', 'NN'), ('--', ':'), ('representing', 'VBG'), ('the', 'DT'), ('\"', '\"'), ('have-nots', 'NNS'), ('\"', '\"'), ('of', 'IN'), ('louisiana', 'NNP'), ('--', ':'), ('is', 'VBZ'), ('a', 'DT'), ('broken-down', 'JJ'), ('shack', 'NN'), ('with', 'IN'), ('a', 'DT'), ('woodpile', 'NN'), ('and', 'CC'), ('a', 'DT'), ('wash', 'NN'), ('line', 'NN'), ('.', '.')]\n",
      "the set , designed by mr . hall 's longtime associate eugene lee , has the audience divided in half , facing a central playing area . off to one side -- representing the \" have-nots \" of louisiana -- is a broken-down shack with a woodpile and a wash line .\n",
      "       line -> cord\n",
      "[('the', 'DT'), ('new', 'JJ'), ('technology', 'NN'), ('represents', 'VBZ'), ('a', 'DT'), ('considerable', 'JJ'), ('savings', 'NNS'), ('over', 'IN'), ('conventional', 'JJ'), ('offshore', 'JJ'), ('production', 'NN'), ('technology', 'NN'), ('.', '.'), ('the', 'DT'), ('foundation', 'NN'), ('of', 'IN'), ('the', 'DT'), ('project', 'NN'), (',', ','), ('a', 'DT'), ('\"', '\"'), ('tension-leg', 'JJ'), ('well', 'JJ'), ('platform', 'NN'), (',', ','), ('\"', '\"'), ('will', 'MD'), ('be', 'VB'), ('a', 'DT'), ('floating', 'VBG'), ('structure', 'NN'), ('that', 'WDT'), ('is', 'VBZ'), ('anchored', 'VBN'), ('to', 'TO'), ('the', 'DT'), ('seabed', 'NN'), ('by', 'IN'), ('steel', 'NN'), ('mooring', 'NN'), ('lines', 'NNS'), (',', ','), ('a', 'DT'), ('design', 'NN'), ('that', 'WDT'), ('requires', 'VBZ'), ('far', 'RB'), ('less', 'JJR'), ('steel', 'NN'), ('than', 'IN'), ('conventional', 'JJ'), ('platforms', 'NNS'), ('do', 'VBP'), ('.', '.')]\n",
      "the new technology represents a considerable savings over conventional offshore production technology . the foundation of the project , a \" tension-leg well platform , \" will be a floating structure that is anchored to the seabed by steel mooring lines , a design that requires far less steel than conventional platforms do .\n",
      "      lines -> cord\n",
      "[('there', 'EX'), ('is', 'VBZ'), ('nothing', 'NN'), ('easy', 'JJ'), ('about', 'IN'), ('running', 'VBG'), ('a', 'DT'), ('cruise', 'NN'), ('boat', 'NN'), ('in', 'IN'), ('winter', 'NN'), ('.', '.'), ('it', 'PRP'), ('takes', 'VBZ'), ('boiling', 'VBG'), ('water', 'NN'), ('to', 'TO'), ('thaw', 'VB'), ('the', 'DT'), ('frozen', 'VBN'), ('lines', 'NNS'), ('at', 'IN'), ('the', 'DT'), ('clinton', 'NNP'), (\"'s\", 'POS'), ('overnight', 'JJ'), ('berth', 'NN'), ('so', 'RB'), ('that', 'IN'), ('the', 'DT'), ('boat', 'NN'), ('can', 'MD'), ('be', 'VB'), ('brought', 'VBN'), ('around', 'IN'), ('to', 'TO'), ('the', 'DT'), ('passenger', 'NN'), ('pier', 'NN'), ('.', '.')]\n",
      "there is nothing easy about running a cruise boat in winter . it takes boiling water to thaw the frozen lines at the clinton 's overnight berth so that the boat can be brought around to the passenger pier .\n",
      "      lines -> cord\n",
      "[('but', 'CC'), ('she', 'PRP'), ('could', 'MD'), ('use', 'VB'), ('a', 'DT'), ('pair', 'NN'), ('of', 'IN'), ('spikes', 'NNS'), ('to', 'TO'), ('help', 'VB'), ('her', 'PRP$'), ('navigate', 'VB'), ('the', 'DT'), ('icy', 'JJ'), ('deck', 'NN'), ('.', '.'), ('three', 'CD'), ('times', 'NNS'), ('she', 'PRP'), ('tries', 'VBZ'), ('to', 'TO'), ('throw', 'VB'), ('a', 'DT'), ('dock', 'NN'), ('line', 'NN'), ('to', 'TO'), ('the', 'DT'), ('pier', 'NN'), ('.', '.')]\n",
      "but she could use a pair of spikes to help her navigate the icy deck . three times she tries to throw a dock line to the pier .\n",
      "       line -> cord\n",
      "[('\"', '\"'), ('give', 'VB'), ('it', 'PRP'), ('a', 'DT'), ('prolonged', 'VBN'), ('blow', 'NN'), ('.', '.'), ('\"', '\"'), ('proudly', 'RB'), (',', ','), ('i', 'PRP'), ('give', 'VBP'), ('the', 'DT'), ('green', 'JJ'), ('line', 'NN'), ('a', 'DT'), ('tug', 'NN'), ('.', '.')]\n",
      "\" give it a prolonged blow . \" proudly , i give the green line a tug .\n",
      "       line -> cord\n",
      "[('to', 'TO'), ('my', 'PRP$'), ('horror', 'NN'), (',', ','), ('i', 'PRP'), ('realize', 'VBP'), ('i', 'PRP'), ('have', 'VBP'), ('pulled', 'VBN'), ('too', 'RB'), ('hard', 'JJ'), ('.', '.'), ('down', 'IN'), ('comes', 'VBZ'), ('the', 'DT'), ('green', 'JJ'), ('line', 'NN'), ('as', 'IN'), ('the', 'DT'), ('great', 'JJ'), ('whistle', 'NN'), ('blares', 'VBZ'), ('forth', 'RB'), (',', ','), ('a', 'DT'), ('shrill', 'JJ'), ('torrent', 'NN'), ('of', 'IN'), ('sound', 'NN'), ('that', 'WDT'), ('won', 'VBD'), (\"'t\", 'NN'), ('stop', 'NN'), ('.', '.')]\n",
      "to my horror , i realize i have pulled too hard . down comes the green line as the great whistle blares forth , a shrill torrent of sound that won 't stop .\n",
      "       line -> cord\n",
      "[('\"', '\"'), ('there', 'EX'), ('are', 'VBP'), ('grown', 'VBN'), ('macho', 'JJ'), ('men', 'NNS'), ('who', 'WP'), ('can', 'MD'), ('skin', 'NN'), ('game', 'NN'), ('but', 'CC'), ('who', 'WP'), ('won', 'VBD'), (\"'t\", 'NN'), ('touch', 'NN'), ('an', 'DT'), ('eelpout', 'NN'), (',', ','), ('\"', '\"'), ('says', 'VBZ'), ('jeffrey', 'NNP'), ('gunderson', 'NNP'), (',', ','), ('a', 'DT'), ('representative', 'NN'), ('of', 'IN'), ('the', 'DT'), ('university', 'NNP'), ('of', 'IN'), ('minnesota', 'NNP'), (\"'s\", 'POS'), ('sea', 'NNP'), ('grant', 'NNP'), ('extension', 'NNP'), ('program', 'NN'), (',', ','), ('which', 'WDT'), ('tries', 'VBZ'), ('to', 'TO'), ('promote', 'VB'), ('underused', 'VBN'), ('fish', 'NN'), ('.', '.'), ('\"', '\"'), ('they', 'PRP'), (\"'ll\", 'MD'), ('cut', 'VB'), ('their', 'PRP$'), ('lines', 'NNS'), ('rather', 'RB'), ('than', 'IN'), ('bring', 'VB'), ('it', 'PRP'), ('into', 'IN'), ('the', 'DT'), ('boat', 'NN'), ('and', 'CC'), ('unhook', 'VB'), ('it', 'PRP'), ('.', '.'), ('\"', '\"')]\n",
      "\" there are grown macho men who can skin game but who won 't touch an eelpout , \" says jeffrey gunderson , a representative of the university of minnesota 's sea grant extension program , which tries to promote underused fish . \" they 'll cut their lines rather than bring it into the boat and unhook it . \"\n",
      "      lines -> cord\n",
      "[('in', 'IN'), ('the', 'DT'), ('slalom', 'NN'), (',', ','), ('skiers', 'NNS'), ('whizzed', 'VBD'), ('around', 'IN'), ('buoys', 'NNS'), ('behind', 'IN'), ('boats', 'NNS'), ('going', 'VBG'), ('36', 'CD'), ('mph', 'NN'), ('for', 'IN'), ('the', 'DT'), ('men', 'NNS'), ('and', 'CC'), ('34', 'CD'), ('mph', 'NN'), ('for', 'IN'), ('the', 'DT'), ('woman', 'NN'), ('(', '('), ('it', 'PRP'), (\"'s\", 'VBZ'), ('a', 'DT'), ('bigger', 'JJR'), ('difference', 'NN'), ('than', 'IN'), ('it', 'PRP'), ('seems', 'VBZ'), (',', ','), ('i', 'PRP'), ('was', 'VBD'), ('told', 'VBN'), (')', 'SYM'), (',', ','), ('shortening', 'VBG'), ('their', 'PRP$'), ('ropes', 'NNS'), ('on', 'IN'), ('every', 'DT'), ('pass', 'NN'), ('until', 'IN'), ('everyone', 'NN'), ('got', 'VBD'), ('wet', 'JJ'), ('.', '.'), ('jumpers', 'NNP'), ('soared', 'VBD'), ('for', 'IN'), ('distance', 'NN'), ('off', 'IN'), ('a', 'DT'), ('six-foot', 'JJ'), ('ramp', 'NN'), ('after', 'IN'), ('playing', 'VBG'), ('crack-the-whip', 'JJ'), ('with', 'IN'), ('their', 'PRP$'), ('tow', 'NN'), ('lines', 'NNS'), ('.', '.')]\n",
      "in the slalom , skiers whizzed around buoys behind boats going 36 mph for the men and 34 mph for the woman ( it 's a bigger difference than it seems , i was told ) , shortening their ropes on every pass until everyone got wet . jumpers soared for distance off a six-foot ramp after playing crack-the-whip with their tow lines .\n",
      "      lines -> cord\n",
      "[('but', 'CC'), ('seriously', 'RB'), ('folks', 'NNS'), (',', ','), ('the', 'DT'), ('duvalls', 'NNP'), ('root', 'NN'), ('heartily', 'RB'), ('for', 'IN'), ('each', 'DT'), ('other', 'NN'), ('on', 'IN'), ('the', 'DT'), ('water', 'NN'), ('and', 'CC'), ('are', 'VBP'), ('partners', 'NNS'), ('in', 'IN'), ('a', 'DT'), ('school', 'NN'), ('for', 'IN'), ('water-skiing-tournament', 'JJ'), ('aspirants', 'NNS'), ('in', 'IN'), ('windemere', 'NNP'), (',', ','), ('fla', 'NNP'), ('.', '.'), ('sammy', 'NNP'), ('won', 'VBD'), (\"'t\", 'NN'), ('try', 'NN'), ('a', 'DT'), ('tricks', 'NNS'), ('competition', 'NN'), ('unless', 'IN'), ('camille', 'NNP'), ('is', 'VBZ'), ('there', 'EX'), ('to', 'TO'), ('supervise', 'VB'), ('his', 'PRP$'), ('tow', 'NN'), ('line', 'NN'), ('.', '.')]\n",
      "but seriously folks , the duvalls root heartily for each other on the water and are partners in a school for water-skiing-tournament aspirants in windemere , fla . sammy won 't try a tricks competition unless camille is there to supervise his tow line .\n",
      "       line -> cord\n"
     ]
    }
   ],
   "source": [
    "for inst in senseval.instances('line.pos')[:10]:\n",
    "    p = inst.position\n",
    "    print(inst.context)\n",
    "    left = ' '.join(w for (w,t) in inst.context[0:p])\n",
    "    word = ' '.join(w for (w,t) in inst.context[p:p+1])\n",
    "    right = ' '.join(w for (w,t) in inst.context[p+1:])\n",
    "    initial_text = left + \" \" + word + \" \" + right\n",
    "    senses = ' '.join(inst.senses)\n",
    "    print(initial_text)\n",
    "    print(' %10s -> %s' % (word, senses))"
   ]
  },
  {
   "cell_type": "code",
   "execution_count": 17,
   "metadata": {
    "collapsed": false
   },
   "outputs": [
    {
     "name": "stdout",
     "output_type": "stream",
     "text": [
      "[SensevalInstance(word='interest-n', position=18, context=[('yields', 'NNS'), ('on', 'IN'), ('money-market', 'JJ'), ('mutual', 'JJ'), ('funds', 'NNS'), ('continued', 'VBD'), ('to', 'TO'), ('slide', 'VB'), (',', ','), ('amid', 'IN'), ('signs', 'VBZ'), ('that', 'IN'), ('portfolio', 'NN'), ('managers', 'NNS'), ('expect', 'VBP'), ('further', 'JJ'), ('declines', 'NNS'), ('in', 'IN'), ('interest', 'NN'), ('rates', 'NNS'), ('.', '.')], senses=('interest_6',))]\n"
     ]
    }
   ],
   "source": [
    "print(senseval.instances('interest.pos')[:1])"
   ]
  },
  {
   "cell_type": "code",
   "execution_count": 18,
   "metadata": {
    "collapsed": false
   },
   "outputs": [
    {
     "name": "stdout",
     "output_type": "stream",
     "text": [
      "[SensevalInstance(word='line-n', position=67, context=[('the', 'DT'), ('company', 'NN'), ('argued', 'VBD'), ('that', 'IN'), ('its', 'PRP$'), ('foreman', 'NN'), ('needn', 'NN'), (\"'t\", 'NN'), ('have', 'VBP'), ('told', 'VBN'), ('the', 'DT'), ('worker', 'NN'), ('not', 'RB'), ('to', 'TO'), ('move', 'VB'), ('the', 'DT'), ('plank', 'NN'), ('to', 'TO'), ('which', 'WDT'), ('his', 'PRP$'), ('lifeline', 'NN'), ('was', 'VBD'), ('tied', 'VBN'), ('because', 'IN'), ('\"', '\"'), ('that', 'WDT'), ('comes', 'VBZ'), ('with', 'IN'), ('common', 'JJ'), ('sense', 'NN'), ('.', '.'), ('\"', '\"'), ('the', 'DT'), ('commission', 'NN'), ('noted', 'VBD'), (',', ','), ('however', 'RB'), (',', ','), ('that', 'IN'), ('dellovade', 'NNP'), ('hadn', 'NN'), (\"'t\", 'NN'), ('instructed', 'VBD'), ('its', 'PRP$'), ('employees', 'NNS'), ('on', 'IN'), ('how', 'WRB'), ('to', 'TO'), ('secure', 'VB'), ('their', 'PRP$'), ('lifelines', 'NNS'), ('and', 'CC'), ('didn', 'VBD'), (\"'t\", 'NN'), ('heed', 'NN'), ('a', 'DT'), ('federal', 'JJ'), ('inspector', 'NN'), (\"'s\", 'POS'), ('earlier', 'JJR'), ('suggestion', 'NN'), ('that', 'IN'), ('the', 'DT'), ('company', 'NN'), ('install', 'VB'), ('special', 'JJ'), ('safety', 'NN'), ('lines', 'NNS'), ('inside', 'IN'), ('the', 'DT'), ('a-frame', 'NNP'), ('structure', 'NN'), ('it', 'PRP'), ('was', 'VBD'), ('building', 'VBG'), ('.', '.')], senses=('cord',))]\n"
     ]
    }
   ],
   "source": [
    "print(senseval.instances('line.pos')[:1])"
   ]
  },
  {
   "cell_type": "code",
   "execution_count": 21,
   "metadata": {
    "collapsed": true
   },
   "outputs": [],
   "source": [
    "from nltk.corpus import wordnet as wn\n"
   ]
  },
  {
   "cell_type": "code",
   "execution_count": 22,
   "metadata": {
    "collapsed": false
   },
   "outputs": [
    {
     "data": {
      "text/plain": [
       "[Synset('line.n.01'),\n",
       " Synset('line.n.02'),\n",
       " Synset('line.n.03'),\n",
       " Synset('line.n.04'),\n",
       " Synset('line.n.05'),\n",
       " Synset('line.n.06'),\n",
       " Synset('line.n.07'),\n",
       " Synset('argumentation.n.02'),\n",
       " Synset('cable.n.02'),\n",
       " Synset('course.n.02'),\n",
       " Synset('line.n.11'),\n",
       " Synset('wrinkle.n.01'),\n",
       " Synset('pipeline.n.02'),\n",
       " Synset('line.n.14'),\n",
       " Synset('telephone_line.n.02'),\n",
       " Synset('line.n.16'),\n",
       " Synset('lineage.n.01'),\n",
       " Synset('line.n.18'),\n",
       " Synset('occupation.n.01'),\n",
       " Synset('line.n.20'),\n",
       " Synset('channel.n.05'),\n",
       " Synset('line.n.22'),\n",
       " Synset('line.n.23'),\n",
       " Synset('agate_line.n.01'),\n",
       " Synset('credit_line.n.01'),\n",
       " Synset('tune.n.01'),\n",
       " Synset('line.n.27'),\n",
       " Synset('note.n.02'),\n",
       " Synset('line.n.29'),\n",
       " Synset('production_line.n.01')]"
      ]
     },
     "execution_count": 22,
     "metadata": {},
     "output_type": "execute_result"
    }
   ],
   "source": [
    "wn.synsets(\"line\", wn.NOUN)"
   ]
  },
  {
   "cell_type": "code",
   "execution_count": 30,
   "metadata": {
    "collapsed": false
   },
   "outputs": [
    {
     "data": {
      "text/plain": [
       "'(usually plural) a social group whose members control some field of activity and who have common aims'"
      ]
     },
     "execution_count": 30,
     "metadata": {},
     "output_type": "execute_result"
    }
   ],
   "source": [
    "wn.synsets(\"interest\", wn.NOUN)[5].definition()"
   ]
  },
  {
   "cell_type": "code",
   "execution_count": 32,
   "metadata": {
    "collapsed": false
   },
   "outputs": [
    {
     "data": {
      "text/plain": [
       "[Lemma('line.n.01.line'),\n",
       " Lemma('line.n.02.line'),\n",
       " Lemma('line.n.03.line'),\n",
       " Lemma('line.n.04.line'),\n",
       " Lemma('line.n.05.line'),\n",
       " Lemma('line.n.06.line'),\n",
       " Lemma('line.n.07.line'),\n",
       " Lemma('argumentation.n.02.line'),\n",
       " Lemma('cable.n.02.line'),\n",
       " Lemma('course.n.02.line'),\n",
       " Lemma('line.n.11.line'),\n",
       " Lemma('wrinkle.n.01.line'),\n",
       " Lemma('pipeline.n.02.line'),\n",
       " Lemma('line.n.14.line'),\n",
       " Lemma('telephone_line.n.02.line'),\n",
       " Lemma('line.n.16.line'),\n",
       " Lemma('lineage.n.01.line'),\n",
       " Lemma('line.n.18.line'),\n",
       " Lemma('occupation.n.01.line'),\n",
       " Lemma('line.n.20.line'),\n",
       " Lemma('channel.n.05.line'),\n",
       " Lemma('line.n.22.line'),\n",
       " Lemma('line.n.23.line'),\n",
       " Lemma('agate_line.n.01.line'),\n",
       " Lemma('credit_line.n.01.line'),\n",
       " Lemma('tune.n.01.line'),\n",
       " Lemma('line.n.27.line'),\n",
       " Lemma('note.n.02.line'),\n",
       " Lemma('line.n.29.line'),\n",
       " Lemma('production_line.n.01.line')]"
      ]
     },
     "execution_count": 32,
     "metadata": {},
     "output_type": "execute_result"
    }
   ],
   "source": [
    "wn.lemmas(\"line\", wn.NOUN)"
   ]
  },
  {
   "cell_type": "code",
   "execution_count": 35,
   "metadata": {
    "collapsed": false
   },
   "outputs": [
    {
     "data": {
      "text/plain": [
       "[Synset('line.n.01'),\n",
       " Synset('line.n.02'),\n",
       " Synset('line.n.03'),\n",
       " Synset('line.n.04'),\n",
       " Synset('line.n.05'),\n",
       " Synset('line.n.06'),\n",
       " Synset('line.n.07'),\n",
       " Synset('argumentation.n.02'),\n",
       " Synset('cable.n.02'),\n",
       " Synset('course.n.02'),\n",
       " Synset('line.n.11'),\n",
       " Synset('wrinkle.n.01'),\n",
       " Synset('pipeline.n.02'),\n",
       " Synset('line.n.14'),\n",
       " Synset('telephone_line.n.02'),\n",
       " Synset('line.n.16'),\n",
       " Synset('lineage.n.01'),\n",
       " Synset('line.n.18'),\n",
       " Synset('occupation.n.01'),\n",
       " Synset('line.n.20'),\n",
       " Synset('channel.n.05'),\n",
       " Synset('line.n.22'),\n",
       " Synset('line.n.23'),\n",
       " Synset('agate_line.n.01'),\n",
       " Synset('credit_line.n.01'),\n",
       " Synset('tune.n.01'),\n",
       " Synset('line.n.27'),\n",
       " Synset('note.n.02'),\n",
       " Synset('line.n.29'),\n",
       " Synset('production_line.n.01')]"
      ]
     },
     "execution_count": 35,
     "metadata": {},
     "output_type": "execute_result"
    }
   ],
   "source": [
    "wn.synsets(\"line\", wn.NOUN)"
   ]
  },
  {
   "cell_type": "code",
   "execution_count": 38,
   "metadata": {
    "collapsed": false
   },
   "outputs": [
    {
     "data": {
      "text/plain": [
       "['a line made of twisted fibers or threads',\n",
       " 'a unit of amount of wood cut for burning; 128 cubic feet',\n",
       " 'a light insulated conductor for household use',\n",
       " 'a cut pile fabric with vertical ribs; usually made of cotton']"
      ]
     },
     "execution_count": 38,
     "metadata": {},
     "output_type": "execute_result"
    }
   ],
   "source": [
    "[syn.definition() for syn in wn.synsets(\"cord\", wn.NOUN)]"
   ]
  },
  {
   "cell_type": "code",
   "execution_count": 43,
   "metadata": {
    "collapsed": true
   },
   "outputs": [],
   "source": [
    "# http://stackoverflow.com/questions/16381218/how-do-i-get-the-definition-for-a-sense-in-nltks-senseval-module\n",
    "-"
   ]
  },
  {
   "cell_type": "code",
   "execution_count": 45,
   "metadata": {
    "collapsed": false
   },
   "outputs": [
    {
     "name": "stdout",
     "output_type": "stream",
     "text": [
      "['line.n.18']\n"
     ]
    }
   ],
   "source": [
    "cord_syn = SV_SENSE_MAP[senseval.instances('line.pos')[1].senses[0]]\n",
    "print(cord_syn)"
   ]
  },
  {
   "cell_type": "code",
   "execution_count": 52,
   "metadata": {
    "collapsed": false
   },
   "outputs": [
    {
     "data": {
      "text/plain": [
       "Synset('line.n.18')"
      ]
     },
     "execution_count": 52,
     "metadata": {},
     "output_type": "execute_result"
    }
   ],
   "source": [
    "wn.synset(cord_syn[0])"
   ]
  },
  {
   "cell_type": "code",
   "execution_count": 48,
   "metadata": {
    "collapsed": false
   },
   "outputs": [
    {
     "data": {
      "text/plain": [
       "Synset('dog.n.01')"
      ]
     },
     "execution_count": 48,
     "metadata": {},
     "output_type": "execute_result"
    }
   ],
   "source": [
    "wn.synset('dog.n.01')SV_SENSE_MAP[senseval.instances('line.pos')[1].senses[0]]"
   ]
  },
  {
   "cell_type": "code",
   "execution_count": 56,
   "metadata": {
    "collapsed": false
   },
   "outputs": [
    {
     "ename": "TypeError",
     "evalue": "synset() missing 1 required positional argument: 'name'",
     "output_type": "error",
     "traceback": [
      "\u001b[0;31m---------------------------------------------------------------------------\u001b[0m",
      "\u001b[0;31mTypeError\u001b[0m                                 Traceback (most recent call last)",
      "\u001b[0;32m<ipython-input-56-4d50aa611eb0>\u001b[0m in \u001b[0;36m<module>\u001b[0;34m()\u001b[0m\n\u001b[0;32m----> 1\u001b[0;31m \u001b[0mwn\u001b[0m\u001b[0;34m.\u001b[0m\u001b[0msynset\u001b[0m\u001b[0;34m(\u001b[0m\u001b[0;34m)\u001b[0m\u001b[0;34m\u001b[0m\u001b[0m\n\u001b[0m",
      "\u001b[0;31mTypeError\u001b[0m: synset() missing 1 required positional argument: 'name'"
     ]
    }
   ],
   "source": [
    "wn.synset()"
   ]
  },
  {
   "cell_type": "code",
   "execution_count": null,
   "metadata": {
    "collapsed": true
   },
   "outputs": [],
   "source": []
  }
 ],
 "metadata": {
  "anaconda-cloud": {},
  "kernelspec": {
   "display_name": "Python [default]",
   "language": "python",
   "name": "python3"
  },
  "language_info": {
   "codemirror_mode": {
    "name": "ipython",
    "version": 3
   },
   "file_extension": ".py",
   "mimetype": "text/x-python",
   "name": "python",
   "nbconvert_exporter": "python",
   "pygments_lexer": "ipython3",
   "version": "3.5.2"
  }
 },
 "nbformat": 4,
 "nbformat_minor": 1
}
