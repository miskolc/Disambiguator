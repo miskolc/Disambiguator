{
 "cells": [
  {
   "cell_type": "code",
   "execution_count": 1,
   "metadata": {
    "collapsed": true
   },
   "outputs": [],
   "source": [
    "from nltk.corpus import senseval\n"
   ]
  },
  {
   "cell_type": "code",
   "execution_count": 5,
   "metadata": {
    "collapsed": false
   },
   "outputs": [
    {
     "data": {
      "text/plain": [
       "['hard.pos', 'interest.pos', 'line.pos', 'serve.pos']"
      ]
     },
     "execution_count": 5,
     "metadata": {},
     "output_type": "execute_result"
    }
   ],
   "source": [
    "senseval.fileids()"
   ]
  },
  {
   "cell_type": "code",
   "execution_count": 7,
   "metadata": {
    "collapsed": false
   },
   "outputs": [
    {
     "data": {
      "text/plain": [
       "[SensevalInstance(word='hard-a', position=20, context=[('``', '``'), ('he', 'PRP'), ('may', 'MD'), ('lose', 'VB'), ('all', 'DT'), ('popular', 'JJ'), ('support', 'NN'), (',', ','), ('but', 'CC'), ('someone', 'NN'), ('has', 'VBZ'), ('to', 'TO'), ('kill', 'VB'), ('him', 'PRP'), ('to', 'TO'), ('defeat', 'VB'), ('him', 'PRP'), ('and', 'CC'), ('that', 'DT'), (\"'s\", 'VBZ'), ('hard', 'JJ'), ('to', 'TO'), ('do', 'VB'), ('.', '.'), (\"''\", \"''\")], senses=('HARD1',)), SensevalInstance(word='hard-a', position=10, context=[('clever', 'NNP'), ('white', 'NNP'), ('house', 'NNP'), ('``', '``'), ('spin', 'VB'), ('doctors', 'NNS'), (\"''\", \"''\"), ('are', 'VBP'), ('having', 'VBG'), ('a', 'DT'), ('hard', 'JJ'), ('time', 'NN'), ('helping', 'VBG'), ('president', 'NNP'), ('bush', 'NNP'), ('explain', 'VB'), ('away', 'RB'), ('the', 'DT'), ('economic', 'JJ'), ('bashing', 'NN'), ('that', 'IN'), ('low-and', 'JJ'), ('middle-income', 'JJ'), ('workers', 'NNS'), ('are', 'VBP'), ('taking', 'VBG'), ('these', 'DT'), ('days', 'NNS'), ('.', '.')], senses=('HARD1',)), ...]"
      ]
     },
     "execution_count": 7,
     "metadata": {},
     "output_type": "execute_result"
    }
   ],
   "source": [
    "senseval.instances('hard.pos')"
   ]
  },
  {
   "cell_type": "code",
   "execution_count": 9,
   "metadata": {
    "collapsed": false
   },
   "outputs": [],
   "source": [
    "# senseval.raw('hard.pos')"
   ]
  },
  {
   "cell_type": "code",
   "execution_count": 13,
   "metadata": {
    "collapsed": false
   },
   "outputs": [
    {
     "name": "stdout",
     "output_type": "stream",
     "text": [
      "yields on money-market mutual funds continued to slide , amid signs that portfolio managers expect further declines in\n",
      "         declines in |  interest | rates .         -> interest_6\n",
      "longer maturities are thought to indicate declining\n",
      "  indicate declining |  interest | rates because   -> interest_6\n",
      "nevertheless , said brenda malizia negus , editor of money fund report , yields `` may blip up again before they blip down '' because of recent rises in short-term\n",
      "       in short-term |  interest | rates .         -> interest_6\n",
      "j . p . bolduc , vice chairman of w . r . grace & co . , which holds a 83 . 4 %\n",
      "                 4 % |  interest | in this         -> interest_5\n",
      "finmeccanica is an italian state-owned holding company with\n",
      "        company with | interests | in the          -> interest_5\n",
      "in august , the commission ruled that between $ 190 million and $ 195 million of the plant 's construction cost was unreasonable and should be refunded , plus\n",
      "              , plus |  interest | .               -> interest_6\n",
      "last month , judge curry set the\n",
      "             set the |  interest | rate on         -> interest_6\n",
      "gary hoffman , a washington lawyer specializing in intellectual-property cases , said the threat of u . s . retaliation , combined with a growing recognition that protecting intellectual property is in a country 's own\n",
      "              's own |  interest | , prompted      -> interest_4\n",
      "mr . rapanelli recently has said the government of president carlos menem , who took office july 8 , feels a significant reduction of principal and\n",
      "       principal and |  interest | is the          -> interest_6\n",
      "that stake , together with its convertible preferred stock holdings , gives faulding the right to increase its\n",
      "        increase its |  interest | to 70           -> interest_5\n"
     ]
    }
   ],
   "source": [
    "for inst in senseval.instances('interest.pos')[:10]:\n",
    "    p = inst.position\n",
    "    left = ' '.join(w for (w,t) in inst.context[p-2:p])\n",
    "    word = ' '.join(w for (w,t) in inst.context[p:p+1])\n",
    "    right = ' '.join(w for (w,t) in inst.context[p+1:p+3])\n",
    "    senses = ' '.join(inst.senses)\n",
    "    print(' '.join(w for (w,t) in inst.context[0:p]))\n",
    "    print('%20s |%10s | %-15s -> %s' % (left, word, right, senses))"
   ]
  },
  {
   "cell_type": "code",
   "execution_count": 20,
   "metadata": {
    "collapsed": false
   },
   "outputs": [
    {
     "name": "stdout",
     "output_type": "stream",
     "text": [
      "the company argued that its foreman needn 't have told the worker not to move the plank to which his lifeline was tied because \" that comes with common sense . \" the commission noted , however , that dellovade hadn 't instructed its employees on how to secure their lifelines and didn 't heed a federal inspector 's earlier suggestion that the company install special safety lines inside the a-frame structure it was building .\n",
      "      lines -> cord\n",
      "the set , designed by mr . hall 's longtime associate eugene lee , has the audience divided in half , facing a central playing area . off to one side -- representing the \" have-nots \" of louisiana -- is a broken-down shack with a woodpile and a wash line .\n",
      "       line -> cord\n",
      "the new technology represents a considerable savings over conventional offshore production technology . the foundation of the project , a \" tension-leg well platform , \" will be a floating structure that is anchored to the seabed by steel mooring lines , a design that requires far less steel than conventional platforms do .\n",
      "      lines -> cord\n",
      "there is nothing easy about running a cruise boat in winter . it takes boiling water to thaw the frozen lines at the clinton 's overnight berth so that the boat can be brought around to the passenger pier .\n",
      "      lines -> cord\n",
      "but she could use a pair of spikes to help her navigate the icy deck . three times she tries to throw a dock line to the pier .\n",
      "       line -> cord\n",
      "\" give it a prolonged blow . \" proudly , i give the green line a tug .\n",
      "       line -> cord\n",
      "to my horror , i realize i have pulled too hard . down comes the green line as the great whistle blares forth , a shrill torrent of sound that won 't stop .\n",
      "       line -> cord\n",
      "\" there are grown macho men who can skin game but who won 't touch an eelpout , \" says jeffrey gunderson , a representative of the university of minnesota 's sea grant extension program , which tries to promote underused fish . \" they 'll cut their lines rather than bring it into the boat and unhook it . \"\n",
      "      lines -> cord\n",
      "in the slalom , skiers whizzed around buoys behind boats going 36 mph for the men and 34 mph for the woman ( it 's a bigger difference than it seems , i was told ) , shortening their ropes on every pass until everyone got wet . jumpers soared for distance off a six-foot ramp after playing crack-the-whip with their tow lines .\n",
      "      lines -> cord\n",
      "but seriously folks , the duvalls root heartily for each other on the water and are partners in a school for water-skiing-tournament aspirants in windemere , fla . sammy won 't try a tricks competition unless camille is there to supervise his tow line .\n",
      "       line -> cord\n"
     ]
    }
   ],
   "source": [
    "for inst in senseval.instances('line.pos')[:10]:\n",
    "    p = inst.position\n",
    "    left = ' '.join(w for (w,t) in inst.context[0:p])\n",
    "    word = ' '.join(w for (w,t) in inst.context[p:p+1])\n",
    "    right = ' '.join(w for (w,t) in inst.context[p+1:])\n",
    "    initial_text = left + \" \" + word + \" \" + right\n",
    "    senses = ' '.join(inst.senses)\n",
    "    print(initial_text)\n",
    "    print(' %10s -> %s' % (word, senses))"
   ]
  },
  {
   "cell_type": "code",
   "execution_count": 17,
   "metadata": {
    "collapsed": false
   },
   "outputs": [
    {
     "name": "stdout",
     "output_type": "stream",
     "text": [
      "[SensevalInstance(word='interest-n', position=18, context=[('yields', 'NNS'), ('on', 'IN'), ('money-market', 'JJ'), ('mutual', 'JJ'), ('funds', 'NNS'), ('continued', 'VBD'), ('to', 'TO'), ('slide', 'VB'), (',', ','), ('amid', 'IN'), ('signs', 'VBZ'), ('that', 'IN'), ('portfolio', 'NN'), ('managers', 'NNS'), ('expect', 'VBP'), ('further', 'JJ'), ('declines', 'NNS'), ('in', 'IN'), ('interest', 'NN'), ('rates', 'NNS'), ('.', '.')], senses=('interest_6',))]\n"
     ]
    }
   ],
   "source": [
    "print(senseval.instances('interest.pos')[:1])"
   ]
  },
  {
   "cell_type": "code",
   "execution_count": 18,
   "metadata": {
    "collapsed": false
   },
   "outputs": [
    {
     "name": "stdout",
     "output_type": "stream",
     "text": [
      "[SensevalInstance(word='line-n', position=67, context=[('the', 'DT'), ('company', 'NN'), ('argued', 'VBD'), ('that', 'IN'), ('its', 'PRP$'), ('foreman', 'NN'), ('needn', 'NN'), (\"'t\", 'NN'), ('have', 'VBP'), ('told', 'VBN'), ('the', 'DT'), ('worker', 'NN'), ('not', 'RB'), ('to', 'TO'), ('move', 'VB'), ('the', 'DT'), ('plank', 'NN'), ('to', 'TO'), ('which', 'WDT'), ('his', 'PRP$'), ('lifeline', 'NN'), ('was', 'VBD'), ('tied', 'VBN'), ('because', 'IN'), ('\"', '\"'), ('that', 'WDT'), ('comes', 'VBZ'), ('with', 'IN'), ('common', 'JJ'), ('sense', 'NN'), ('.', '.'), ('\"', '\"'), ('the', 'DT'), ('commission', 'NN'), ('noted', 'VBD'), (',', ','), ('however', 'RB'), (',', ','), ('that', 'IN'), ('dellovade', 'NNP'), ('hadn', 'NN'), (\"'t\", 'NN'), ('instructed', 'VBD'), ('its', 'PRP$'), ('employees', 'NNS'), ('on', 'IN'), ('how', 'WRB'), ('to', 'TO'), ('secure', 'VB'), ('their', 'PRP$'), ('lifelines', 'NNS'), ('and', 'CC'), ('didn', 'VBD'), (\"'t\", 'NN'), ('heed', 'NN'), ('a', 'DT'), ('federal', 'JJ'), ('inspector', 'NN'), (\"'s\", 'POS'), ('earlier', 'JJR'), ('suggestion', 'NN'), ('that', 'IN'), ('the', 'DT'), ('company', 'NN'), ('install', 'VB'), ('special', 'JJ'), ('safety', 'NN'), ('lines', 'NNS'), ('inside', 'IN'), ('the', 'DT'), ('a-frame', 'NNP'), ('structure', 'NN'), ('it', 'PRP'), ('was', 'VBD'), ('building', 'VBG'), ('.', '.')], senses=('cord',))]\n"
     ]
    }
   ],
   "source": [
    "print(senseval.instances('line.pos')[:1])"
   ]
  },
  {
   "cell_type": "code",
   "execution_count": 21,
   "metadata": {
    "collapsed": true
   },
   "outputs": [],
   "source": [
    "from nltk.corpus import wordnet as wn\n"
   ]
  },
  {
   "cell_type": "code",
   "execution_count": 22,
   "metadata": {
    "collapsed": false
   },
   "outputs": [
    {
     "data": {
      "text/plain": [
       "[Synset('line.n.01'),\n",
       " Synset('line.n.02'),\n",
       " Synset('line.n.03'),\n",
       " Synset('line.n.04'),\n",
       " Synset('line.n.05'),\n",
       " Synset('line.n.06'),\n",
       " Synset('line.n.07'),\n",
       " Synset('argumentation.n.02'),\n",
       " Synset('cable.n.02'),\n",
       " Synset('course.n.02'),\n",
       " Synset('line.n.11'),\n",
       " Synset('wrinkle.n.01'),\n",
       " Synset('pipeline.n.02'),\n",
       " Synset('line.n.14'),\n",
       " Synset('telephone_line.n.02'),\n",
       " Synset('line.n.16'),\n",
       " Synset('lineage.n.01'),\n",
       " Synset('line.n.18'),\n",
       " Synset('occupation.n.01'),\n",
       " Synset('line.n.20'),\n",
       " Synset('channel.n.05'),\n",
       " Synset('line.n.22'),\n",
       " Synset('line.n.23'),\n",
       " Synset('agate_line.n.01'),\n",
       " Synset('credit_line.n.01'),\n",
       " Synset('tune.n.01'),\n",
       " Synset('line.n.27'),\n",
       " Synset('note.n.02'),\n",
       " Synset('line.n.29'),\n",
       " Synset('production_line.n.01')]"
      ]
     },
     "execution_count": 22,
     "metadata": {},
     "output_type": "execute_result"
    }
   ],
   "source": [
    "wn.synsets(\"line\", wn.NOUN)"
   ]
  },
  {
   "cell_type": "code",
   "execution_count": 30,
   "metadata": {
    "collapsed": false
   },
   "outputs": [
    {
     "data": {
      "text/plain": [
       "'(usually plural) a social group whose members control some field of activity and who have common aims'"
      ]
     },
     "execution_count": 30,
     "metadata": {},
     "output_type": "execute_result"
    }
   ],
   "source": [
    "wn.synsets(\"interest\", wn.NOUN)[5].definition()"
   ]
  },
  {
   "cell_type": "code",
   "execution_count": 32,
   "metadata": {
    "collapsed": false
   },
   "outputs": [
    {
     "data": {
      "text/plain": [
       "[Lemma('line.n.01.line'),\n",
       " Lemma('line.n.02.line'),\n",
       " Lemma('line.n.03.line'),\n",
       " Lemma('line.n.04.line'),\n",
       " Lemma('line.n.05.line'),\n",
       " Lemma('line.n.06.line'),\n",
       " Lemma('line.n.07.line'),\n",
       " Lemma('argumentation.n.02.line'),\n",
       " Lemma('cable.n.02.line'),\n",
       " Lemma('course.n.02.line'),\n",
       " Lemma('line.n.11.line'),\n",
       " Lemma('wrinkle.n.01.line'),\n",
       " Lemma('pipeline.n.02.line'),\n",
       " Lemma('line.n.14.line'),\n",
       " Lemma('telephone_line.n.02.line'),\n",
       " Lemma('line.n.16.line'),\n",
       " Lemma('lineage.n.01.line'),\n",
       " Lemma('line.n.18.line'),\n",
       " Lemma('occupation.n.01.line'),\n",
       " Lemma('line.n.20.line'),\n",
       " Lemma('channel.n.05.line'),\n",
       " Lemma('line.n.22.line'),\n",
       " Lemma('line.n.23.line'),\n",
       " Lemma('agate_line.n.01.line'),\n",
       " Lemma('credit_line.n.01.line'),\n",
       " Lemma('tune.n.01.line'),\n",
       " Lemma('line.n.27.line'),\n",
       " Lemma('note.n.02.line'),\n",
       " Lemma('line.n.29.line'),\n",
       " Lemma('production_line.n.01.line')]"
      ]
     },
     "execution_count": 32,
     "metadata": {},
     "output_type": "execute_result"
    }
   ],
   "source": [
    "wn.lemmas(\"line\", wn.NOUN)"
   ]
  },
  {
   "cell_type": "code",
   "execution_count": 35,
   "metadata": {
    "collapsed": false
   },
   "outputs": [
    {
     "data": {
      "text/plain": [
       "[Synset('line.n.01'),\n",
       " Synset('line.n.02'),\n",
       " Synset('line.n.03'),\n",
       " Synset('line.n.04'),\n",
       " Synset('line.n.05'),\n",
       " Synset('line.n.06'),\n",
       " Synset('line.n.07'),\n",
       " Synset('argumentation.n.02'),\n",
       " Synset('cable.n.02'),\n",
       " Synset('course.n.02'),\n",
       " Synset('line.n.11'),\n",
       " Synset('wrinkle.n.01'),\n",
       " Synset('pipeline.n.02'),\n",
       " Synset('line.n.14'),\n",
       " Synset('telephone_line.n.02'),\n",
       " Synset('line.n.16'),\n",
       " Synset('lineage.n.01'),\n",
       " Synset('line.n.18'),\n",
       " Synset('occupation.n.01'),\n",
       " Synset('line.n.20'),\n",
       " Synset('channel.n.05'),\n",
       " Synset('line.n.22'),\n",
       " Synset('line.n.23'),\n",
       " Synset('agate_line.n.01'),\n",
       " Synset('credit_line.n.01'),\n",
       " Synset('tune.n.01'),\n",
       " Synset('line.n.27'),\n",
       " Synset('note.n.02'),\n",
       " Synset('line.n.29'),\n",
       " Synset('production_line.n.01')]"
      ]
     },
     "execution_count": 35,
     "metadata": {},
     "output_type": "execute_result"
    }
   ],
   "source": [
    "wn.synsets(\"line\", wn.NOUN)"
   ]
  },
  {
   "cell_type": "code",
   "execution_count": 38,
   "metadata": {
    "collapsed": false
   },
   "outputs": [
    {
     "data": {
      "text/plain": [
       "['a line made of twisted fibers or threads',\n",
       " 'a unit of amount of wood cut for burning; 128 cubic feet',\n",
       " 'a light insulated conductor for household use',\n",
       " 'a cut pile fabric with vertical ribs; usually made of cotton']"
      ]
     },
     "execution_count": 38,
     "metadata": {},
     "output_type": "execute_result"
    }
   ],
   "source": [
    "[syn.definition() for syn in wn.synsets(\"cord\", wn.NOUN)]"
   ]
  },
  {
   "cell_type": "code",
   "execution_count": 43,
   "metadata": {
    "collapsed": true
   },
   "outputs": [],
   "source": [
    "# http://stackoverflow.com/questions/16381218/how-do-i-get-the-definition-for-a-sense-in-nltks-senseval-module\n",
    "SV_SENSE_MAP = {\n",
    "    \"HARD1\": [\"difficult.a.01\"],    # not easy, requiring great physical or mental\n",
    "    \"HARD2\": [\"hard.a.02\",          # dispassionate\n",
    "              \"difficult.a.01\"],\n",
    "    \"HARD3\": [\"hard.a.03\"],         # resisting weight or pressure\n",
    "    \"interest_1\": [\"interest.n.01\"], # readiness to give attention\n",
    "    \"interest_2\": [\"interest.n.03\"], # quality of causing attention to be given to\n",
    "    \"interest_3\": [\"pastime.n.01\"],  # activity, etc. that one gives attention to\n",
    "    \"interest_4\": [\"sake.n.01\"],     # advantage, advancement or favor\n",
    "    \"interest_5\": [\"interest.n.05\"], # a share in a company or business\n",
    "    \"interest_6\": [\"interest.n.04\"], # money paid for the use of money\n",
    "    \"cord\": [\"line.n.18\"],          # something (as a cord or rope) that is long and thin and flexible\n",
    "    \"formation\": [\"line.n.01\",\"line.n.03\"], # a formation of people or things one beside another\n",
    "    \"text\": [\"line.n.05\"],                 # text consisting of a row of words written across a page or computer screen\n",
    "    \"phone\": [\"telephone_line.n.02\"],   # a telephone connection\n",
    "    \"product\": [\"line.n.22\"],       # a particular kind of product or merchandise\n",
    "    \"division\": [\"line.n.29\"],      # a conceptual separation or distinction\n",
    "    \"SERVE12\": [\"serve.v.02\"],       # do duty or hold offices; serve in a specific function\n",
    "    \"SERVE10\": [\"serve.v.06\"], # provide (usually but not necessarily food)\n",
    "    \"SERVE2\": [\"serve.v.01\"],       # serve a purpose, role, or function\n",
    "    \"SERVE6\": [\"service.v.01\"]      # be used by; as of a utility\n",
    "}"
   ]
  },
  {
   "cell_type": "code",
   "execution_count": 45,
   "metadata": {
    "collapsed": false
   },
   "outputs": [
    {
     "name": "stdout",
     "output_type": "stream",
     "text": [
      "['line.n.18']\n"
     ]
    }
   ],
   "source": [
    "cord_syn = SV_SENSE_MAP[senseval.instances('line.pos')[1].senses[0]]\n",
    "print(cord_syn)"
   ]
  },
  {
   "cell_type": "code",
   "execution_count": 52,
   "metadata": {
    "collapsed": false
   },
   "outputs": [
    {
     "data": {
      "text/plain": [
       "Synset('line.n.18')"
      ]
     },
     "execution_count": 52,
     "metadata": {},
     "output_type": "execute_result"
    }
   ],
   "source": [
    "wn.synset(cord_syn[0])"
   ]
  },
  {
   "cell_type": "code",
   "execution_count": 48,
   "metadata": {
    "collapsed": false
   },
   "outputs": [
    {
     "data": {
      "text/plain": [
       "Synset('dog.n.01')"
      ]
     },
     "execution_count": 48,
     "metadata": {},
     "output_type": "execute_result"
    }
   ],
   "source": [
    "wn.synset('dog.n.01')"
   ]
  },
  {
   "cell_type": "code",
   "execution_count": null,
   "metadata": {
    "collapsed": true
   },
   "outputs": [],
   "source": []
  }
 ],
 "metadata": {
  "anaconda-cloud": {},
  "kernelspec": {
   "display_name": "Python [default]",
   "language": "python",
   "name": "python3"
  },
  "language_info": {
   "codemirror_mode": {
    "name": "ipython",
    "version": 3
   },
   "file_extension": ".py",
   "mimetype": "text/x-python",
   "name": "python",
   "nbconvert_exporter": "python",
   "pygments_lexer": "ipython3",
   "version": "3.5.2"
  }
 },
 "nbformat": 4,
 "nbformat_minor": 1
}
